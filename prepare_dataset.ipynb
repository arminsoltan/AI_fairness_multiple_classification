{
 "cells": [
  {
   "cell_type": "markdown",
   "id": "ebe6dfb5-beed-4ba4-a85d-146fa720f61c",
   "metadata": {},
   "source": [
    "## Prepare Dataset for Two Classes"
   ]
  },
  {
   "cell_type": "code",
   "execution_count": 14,
   "id": "a75db8f2-853a-42fa-b3c7-332c11dd7c96",
   "metadata": {
    "tags": []
   },
   "outputs": [],
   "source": [
    "import pandas as pd\n",
    "from sklearn.model_selection import train_test_split\n",
    "import seaborn as sns\n",
    "import matplotlib.pyplot as plt"
   ]
  },
  {
   "cell_type": "code",
   "execution_count": 16,
   "id": "3f5c1495-95f0-4c53-9c9f-4fc8adc4fe6c",
   "metadata": {
    "tags": []
   },
   "outputs": [
    {
     "data": {
      "text/html": [
       "<div>\n",
       "<style scoped>\n",
       "    .dataframe tbody tr th:only-of-type {\n",
       "        vertical-align: middle;\n",
       "    }\n",
       "\n",
       "    .dataframe tbody tr th {\n",
       "        vertical-align: top;\n",
       "    }\n",
       "\n",
       "    .dataframe thead th {\n",
       "        text-align: right;\n",
       "    }\n",
       "</style>\n",
       "<table border=\"1\" class=\"dataframe\">\n",
       "  <thead>\n",
       "    <tr style=\"text-align: right;\">\n",
       "      <th></th>\n",
       "      <th>slide_id</th>\n",
       "      <th>biopsy_id</th>\n",
       "      <th>slide_path</th>\n",
       "      <th>sex</th>\n",
       "      <th>race</th>\n",
       "      <th>stage</th>\n",
       "    </tr>\n",
       "  </thead>\n",
       "  <tbody>\n",
       "    <tr>\n",
       "      <th>0</th>\n",
       "      <td>028ad74f-ebd7-45e5-92da-b0f2ded35fdf</td>\n",
       "      <td>00047e6d-cf9e-41f8-8901-eb9b0fe155a6</td>\n",
       "      <td>/home/ngsci/datasets/brca-psj-path/ndpi/028ad7...</td>\n",
       "      <td>F</td>\n",
       "      <td>4</td>\n",
       "      <td>2</td>\n",
       "    </tr>\n",
       "    <tr>\n",
       "      <th>1</th>\n",
       "      <td>0d677646-f6f8-4303-9c2c-4e7a39d8fdbb</td>\n",
       "      <td>00047e6d-cf9e-41f8-8901-eb9b0fe155a6</td>\n",
       "      <td>/home/ngsci/datasets/brca-psj-path/ndpi/0d6776...</td>\n",
       "      <td>F</td>\n",
       "      <td>4</td>\n",
       "      <td>2</td>\n",
       "    </tr>\n",
       "    <tr>\n",
       "      <th>2</th>\n",
       "      <td>4716c9f5-1eba-444a-9658-39c0cab80f05</td>\n",
       "      <td>00047e6d-cf9e-41f8-8901-eb9b0fe155a6</td>\n",
       "      <td>/home/ngsci/datasets/brca-psj-path/ndpi/4716c9...</td>\n",
       "      <td>F</td>\n",
       "      <td>4</td>\n",
       "      <td>2</td>\n",
       "    </tr>\n",
       "    <tr>\n",
       "      <th>3</th>\n",
       "      <td>6d9c5580-246b-4c29-a61f-674a2c07a556</td>\n",
       "      <td>00047e6d-cf9e-41f8-8901-eb9b0fe155a6</td>\n",
       "      <td>/home/ngsci/datasets/brca-psj-path/ndpi/6d9c55...</td>\n",
       "      <td>F</td>\n",
       "      <td>4</td>\n",
       "      <td>2</td>\n",
       "    </tr>\n",
       "    <tr>\n",
       "      <th>4</th>\n",
       "      <td>7787542f-9bea-419b-b3fd-84de67ddc42e</td>\n",
       "      <td>00047e6d-cf9e-41f8-8901-eb9b0fe155a6</td>\n",
       "      <td>/home/ngsci/datasets/brca-psj-path/ndpi/778754...</td>\n",
       "      <td>F</td>\n",
       "      <td>4</td>\n",
       "      <td>2</td>\n",
       "    </tr>\n",
       "  </tbody>\n",
       "</table>\n",
       "</div>"
      ],
      "text/plain": [
       "                               slide_id                             biopsy_id   \n",
       "0  028ad74f-ebd7-45e5-92da-b0f2ded35fdf  00047e6d-cf9e-41f8-8901-eb9b0fe155a6  \\\n",
       "1  0d677646-f6f8-4303-9c2c-4e7a39d8fdbb  00047e6d-cf9e-41f8-8901-eb9b0fe155a6   \n",
       "2  4716c9f5-1eba-444a-9658-39c0cab80f05  00047e6d-cf9e-41f8-8901-eb9b0fe155a6   \n",
       "3  6d9c5580-246b-4c29-a61f-674a2c07a556  00047e6d-cf9e-41f8-8901-eb9b0fe155a6   \n",
       "4  7787542f-9bea-419b-b3fd-84de67ddc42e  00047e6d-cf9e-41f8-8901-eb9b0fe155a6   \n",
       "\n",
       "                                          slide_path sex  race stage  \n",
       "0  /home/ngsci/datasets/brca-psj-path/ndpi/028ad7...   F     4     2  \n",
       "1  /home/ngsci/datasets/brca-psj-path/ndpi/0d6776...   F     4     2  \n",
       "2  /home/ngsci/datasets/brca-psj-path/ndpi/4716c9...   F     4     2  \n",
       "3  /home/ngsci/datasets/brca-psj-path/ndpi/6d9c55...   F     4     2  \n",
       "4  /home/ngsci/datasets/brca-psj-path/ndpi/778754...   F     4     2  "
      ]
     },
     "execution_count": 16,
     "metadata": {},
     "output_type": "execute_result"
    }
   ],
   "source": [
    "df = pd.read_csv(\"/home/ngsci/datasets/brca-psj-path/supplementary/contest-phase-2/slide-manifest-train.csv\")\n",
    "df1 = pd.read_csv(\"/home/ngsci/datasets/brca-psj-path/supplementary/contest-phase-2/csv-train/demographics.csv\")\n",
    "df3 = pd.read_csv(\"/home/ngsci/datasets/brca-psj-path/supplementary/contest-phase-2/csv-train/outcomes.csv\")\n",
    "sexes = list()\n",
    "races = list()\n",
    "stages = list()\n",
    "stage_to_label = {'0': '0', 'IA': '1', 'IIA': '2', 'IIB': '2', 'IIIC': '3', 'IV': '4', 'IIIA': '3', 'IIIB': '3', \n",
    "                  'IB': '1'}\n",
    "for row in df.iterrows():\n",
    "    slide_id = row[1][\"slide_id\"]\n",
    "    biopsy_id = row[1][\"biopsy_id\"]\n",
    "    df2 = df1.loc[df1[\"biopsy_id\"] == biopsy_id]\n",
    "    sex = df2.iloc[0][\"sex\"]\n",
    "    race = df2.iloc[0][\"race\"]\n",
    "    df2 = df3.loc[df3[\"biopsy_id\"] == biopsy_id]\n",
    "    stage = stage_to_label[df2.iloc[0][\"stage\"]]\n",
    "    \n",
    "    sexes.append(sex)\n",
    "    races.append(race)\n",
    "    stages.append(stage)\n",
    "df[\"sex\"] = sexes\n",
    "df[\"race\"] = races\n",
    "df[\"stage\"] = stages\n",
    "df.head()"
   ]
  },
  {
   "cell_type": "code",
   "execution_count": 17,
   "id": "1ec81b01-7ef9-49de-a046-7d7e942ce9bc",
   "metadata": {
    "tags": []
   },
   "outputs": [],
   "source": [
    "df.to_csv(\"/home/ngsci/project/Armin/metadata/data.csv\", index=False)"
   ]
  },
  {
   "cell_type": "code",
   "execution_count": 18,
   "id": "7cfa2dd7-06e4-4f0e-97b8-804aed73215d",
   "metadata": {
    "tags": []
   },
   "outputs": [],
   "source": [
    "df = pd.read_csv(\"/home/ngsci/project/Armin/metadata/data.csv\")\n",
    "df_filtered = df[~df[\"stage\"].isin([1, 2])]\n",
    "\n",
    "df_filtered.loc[df_filtered[\"stage\"].isin([3, 4]), \"stage\"] = 1\n",
    "df_filtered.loc[df_filtered[\"stage\"] == 0, \"stage\"] = 0\n",
    "\n",
    "df_filtered = df_filtered[df_filtered[\"stage\"].isin([0, 1])]\n",
    "biopsy_race = df_filtered.drop_duplicates(subset=[\"biopsy_id\", \"race\"])[[\"biopsy_id\", \"race\"]]\n",
    "\n",
    "train_biopsy, test_biopsy = train_test_split(biopsy_race, test_size=0.1, random_state=42)\n",
    "\n",
    "train_df = df_filtered[df_filtered[\"biopsy_id\"].isin(train_biopsy[\"biopsy_id\"])]\n",
    "test_df = df_filtered[df_filtered[\"biopsy_id\"].isin(test_biopsy[\"biopsy_id\"])]"
   ]
  },
  {
   "cell_type": "code",
   "execution_count": 19,
   "id": "87f70740-ce13-4ece-a6ea-f9d5687f668e",
   "metadata": {
    "tags": []
   },
   "outputs": [],
   "source": [
    "train_df_agg = train_df.groupby(\"biopsy_id\").agg({\n",
    "    \"stage\": \"first\",\n",
    "    \"race\": \"first\"}).reset_index()\n",
    "# valid_df_agg = valid_df.groupby(\"biopsy_id\").agg({\n",
    "#     \"stage\": \"first\",\n",
    "#     \"race\": \"first\"}).reset_index()\n",
    "test_df_agg = test_df.groupby(\"biopsy_id\").agg({\n",
    "    \"stage\": \"first\",\n",
    "    \"race\": \"first\"}).reset_index()\n",
    "total_df_agg = df_filtered.groupby(\"biopsy_id\").agg({\n",
    "    \"stage\": \"first\",\n",
    "    \"race\": \"first\"}).reset_index()"
   ]
  },
  {
   "cell_type": "code",
   "execution_count": 20,
   "id": "ab69c050-e601-4e4c-80de-fb061b650ad5",
   "metadata": {
    "tags": []
   },
   "outputs": [
    {
     "data": {
      "text/html": [
       "<div>\n",
       "<style scoped>\n",
       "    .dataframe tbody tr th:only-of-type {\n",
       "        vertical-align: middle;\n",
       "    }\n",
       "\n",
       "    .dataframe tbody tr th {\n",
       "        vertical-align: top;\n",
       "    }\n",
       "\n",
       "    .dataframe thead th {\n",
       "        text-align: right;\n",
       "    }\n",
       "</style>\n",
       "<table border=\"1\" class=\"dataframe\">\n",
       "  <thead>\n",
       "    <tr style=\"text-align: right;\">\n",
       "      <th></th>\n",
       "      <th>stage</th>\n",
       "      <th>race</th>\n",
       "    </tr>\n",
       "  </thead>\n",
       "  <tbody>\n",
       "    <tr>\n",
       "      <th>count</th>\n",
       "      <td>369.000000</td>\n",
       "      <td>369.000000</td>\n",
       "    </tr>\n",
       "    <tr>\n",
       "      <th>mean</th>\n",
       "      <td>0.571816</td>\n",
       "      <td>2.363144</td>\n",
       "    </tr>\n",
       "    <tr>\n",
       "      <th>std</th>\n",
       "      <td>0.495487</td>\n",
       "      <td>2.537404</td>\n",
       "    </tr>\n",
       "    <tr>\n",
       "      <th>min</th>\n",
       "      <td>0.000000</td>\n",
       "      <td>1.000000</td>\n",
       "    </tr>\n",
       "    <tr>\n",
       "      <th>25%</th>\n",
       "      <td>0.000000</td>\n",
       "      <td>1.000000</td>\n",
       "    </tr>\n",
       "    <tr>\n",
       "      <th>50%</th>\n",
       "      <td>1.000000</td>\n",
       "      <td>1.000000</td>\n",
       "    </tr>\n",
       "    <tr>\n",
       "      <th>75%</th>\n",
       "      <td>1.000000</td>\n",
       "      <td>3.000000</td>\n",
       "    </tr>\n",
       "    <tr>\n",
       "      <th>max</th>\n",
       "      <td>1.000000</td>\n",
       "      <td>9.000000</td>\n",
       "    </tr>\n",
       "  </tbody>\n",
       "</table>\n",
       "</div>"
      ],
      "text/plain": [
       "            stage        race\n",
       "count  369.000000  369.000000\n",
       "mean     0.571816    2.363144\n",
       "std      0.495487    2.537404\n",
       "min      0.000000    1.000000\n",
       "25%      0.000000    1.000000\n",
       "50%      1.000000    1.000000\n",
       "75%      1.000000    3.000000\n",
       "max      1.000000    9.000000"
      ]
     },
     "execution_count": 20,
     "metadata": {},
     "output_type": "execute_result"
    }
   ],
   "source": [
    "train_df_agg.describe()"
   ]
  },
  {
   "cell_type": "code",
   "execution_count": 21,
   "id": "de33c263-fb4d-4d31-ba92-02924da2564e",
   "metadata": {
    "tags": []
   },
   "outputs": [
    {
     "data": {
      "text/html": [
       "<div>\n",
       "<style scoped>\n",
       "    .dataframe tbody tr th:only-of-type {\n",
       "        vertical-align: middle;\n",
       "    }\n",
       "\n",
       "    .dataframe tbody tr th {\n",
       "        vertical-align: top;\n",
       "    }\n",
       "\n",
       "    .dataframe thead th {\n",
       "        text-align: right;\n",
       "    }\n",
       "</style>\n",
       "<table border=\"1\" class=\"dataframe\">\n",
       "  <thead>\n",
       "    <tr style=\"text-align: right;\">\n",
       "      <th></th>\n",
       "      <th>race</th>\n",
       "      <th>stage</th>\n",
       "    </tr>\n",
       "  </thead>\n",
       "  <tbody>\n",
       "    <tr>\n",
       "      <th>count</th>\n",
       "      <td>3581.000000</td>\n",
       "      <td>3581.000000</td>\n",
       "    </tr>\n",
       "    <tr>\n",
       "      <th>mean</th>\n",
       "      <td>2.085172</td>\n",
       "      <td>0.843061</td>\n",
       "    </tr>\n",
       "    <tr>\n",
       "      <th>std</th>\n",
       "      <td>2.340738</td>\n",
       "      <td>0.363794</td>\n",
       "    </tr>\n",
       "    <tr>\n",
       "      <th>min</th>\n",
       "      <td>1.000000</td>\n",
       "      <td>0.000000</td>\n",
       "    </tr>\n",
       "    <tr>\n",
       "      <th>25%</th>\n",
       "      <td>1.000000</td>\n",
       "      <td>1.000000</td>\n",
       "    </tr>\n",
       "    <tr>\n",
       "      <th>50%</th>\n",
       "      <td>1.000000</td>\n",
       "      <td>1.000000</td>\n",
       "    </tr>\n",
       "    <tr>\n",
       "      <th>75%</th>\n",
       "      <td>1.000000</td>\n",
       "      <td>1.000000</td>\n",
       "    </tr>\n",
       "    <tr>\n",
       "      <th>max</th>\n",
       "      <td>9.000000</td>\n",
       "      <td>1.000000</td>\n",
       "    </tr>\n",
       "  </tbody>\n",
       "</table>\n",
       "</div>"
      ],
      "text/plain": [
       "              race        stage\n",
       "count  3581.000000  3581.000000\n",
       "mean      2.085172     0.843061\n",
       "std       2.340738     0.363794\n",
       "min       1.000000     0.000000\n",
       "25%       1.000000     1.000000\n",
       "50%       1.000000     1.000000\n",
       "75%       1.000000     1.000000\n",
       "max       9.000000     1.000000"
      ]
     },
     "execution_count": 21,
     "metadata": {},
     "output_type": "execute_result"
    }
   ],
   "source": [
    "train_df.describe()"
   ]
  },
  {
   "cell_type": "code",
   "execution_count": 23,
   "id": "5d9499e7-c215-44f1-8cea-979065341e03",
   "metadata": {
    "tags": []
   },
   "outputs": [
    {
     "data": {
      "text/html": [
       "<div>\n",
       "<style scoped>\n",
       "    .dataframe tbody tr th:only-of-type {\n",
       "        vertical-align: middle;\n",
       "    }\n",
       "\n",
       "    .dataframe tbody tr th {\n",
       "        vertical-align: top;\n",
       "    }\n",
       "\n",
       "    .dataframe thead th {\n",
       "        text-align: right;\n",
       "    }\n",
       "</style>\n",
       "<table border=\"1\" class=\"dataframe\">\n",
       "  <thead>\n",
       "    <tr style=\"text-align: right;\">\n",
       "      <th></th>\n",
       "      <th>stage</th>\n",
       "      <th>race</th>\n",
       "    </tr>\n",
       "  </thead>\n",
       "  <tbody>\n",
       "    <tr>\n",
       "      <th>count</th>\n",
       "      <td>41.000000</td>\n",
       "      <td>41.000000</td>\n",
       "    </tr>\n",
       "    <tr>\n",
       "      <th>mean</th>\n",
       "      <td>0.463415</td>\n",
       "      <td>2.146341</td>\n",
       "    </tr>\n",
       "    <tr>\n",
       "      <th>std</th>\n",
       "      <td>0.504854</td>\n",
       "      <td>2.475490</td>\n",
       "    </tr>\n",
       "    <tr>\n",
       "      <th>min</th>\n",
       "      <td>0.000000</td>\n",
       "      <td>1.000000</td>\n",
       "    </tr>\n",
       "    <tr>\n",
       "      <th>25%</th>\n",
       "      <td>0.000000</td>\n",
       "      <td>1.000000</td>\n",
       "    </tr>\n",
       "    <tr>\n",
       "      <th>50%</th>\n",
       "      <td>0.000000</td>\n",
       "      <td>1.000000</td>\n",
       "    </tr>\n",
       "    <tr>\n",
       "      <th>75%</th>\n",
       "      <td>1.000000</td>\n",
       "      <td>1.000000</td>\n",
       "    </tr>\n",
       "    <tr>\n",
       "      <th>max</th>\n",
       "      <td>1.000000</td>\n",
       "      <td>9.000000</td>\n",
       "    </tr>\n",
       "  </tbody>\n",
       "</table>\n",
       "</div>"
      ],
      "text/plain": [
       "           stage       race\n",
       "count  41.000000  41.000000\n",
       "mean    0.463415   2.146341\n",
       "std     0.504854   2.475490\n",
       "min     0.000000   1.000000\n",
       "25%     0.000000   1.000000\n",
       "50%     0.000000   1.000000\n",
       "75%     1.000000   1.000000\n",
       "max     1.000000   9.000000"
      ]
     },
     "execution_count": 23,
     "metadata": {},
     "output_type": "execute_result"
    }
   ],
   "source": [
    "test_df_agg.describe()"
   ]
  },
  {
   "cell_type": "code",
   "execution_count": 24,
   "id": "a6ebe3f8-7914-4619-b4c3-ee06e13d037d",
   "metadata": {
    "tags": []
   },
   "outputs": [
    {
     "data": {
      "text/html": [
       "<div>\n",
       "<style scoped>\n",
       "    .dataframe tbody tr th:only-of-type {\n",
       "        vertical-align: middle;\n",
       "    }\n",
       "\n",
       "    .dataframe tbody tr th {\n",
       "        vertical-align: top;\n",
       "    }\n",
       "\n",
       "    .dataframe thead th {\n",
       "        text-align: right;\n",
       "    }\n",
       "</style>\n",
       "<table border=\"1\" class=\"dataframe\">\n",
       "  <thead>\n",
       "    <tr style=\"text-align: right;\">\n",
       "      <th></th>\n",
       "      <th>race</th>\n",
       "      <th>stage</th>\n",
       "    </tr>\n",
       "  </thead>\n",
       "  <tbody>\n",
       "    <tr>\n",
       "      <th>count</th>\n",
       "      <td>401.000000</td>\n",
       "      <td>401.000000</td>\n",
       "    </tr>\n",
       "    <tr>\n",
       "      <th>mean</th>\n",
       "      <td>2.194514</td>\n",
       "      <td>0.827930</td>\n",
       "    </tr>\n",
       "    <tr>\n",
       "      <th>std</th>\n",
       "      <td>2.232055</td>\n",
       "      <td>0.377913</td>\n",
       "    </tr>\n",
       "    <tr>\n",
       "      <th>min</th>\n",
       "      <td>1.000000</td>\n",
       "      <td>0.000000</td>\n",
       "    </tr>\n",
       "    <tr>\n",
       "      <th>25%</th>\n",
       "      <td>1.000000</td>\n",
       "      <td>1.000000</td>\n",
       "    </tr>\n",
       "    <tr>\n",
       "      <th>50%</th>\n",
       "      <td>1.000000</td>\n",
       "      <td>1.000000</td>\n",
       "    </tr>\n",
       "    <tr>\n",
       "      <th>75%</th>\n",
       "      <td>3.000000</td>\n",
       "      <td>1.000000</td>\n",
       "    </tr>\n",
       "    <tr>\n",
       "      <th>max</th>\n",
       "      <td>9.000000</td>\n",
       "      <td>1.000000</td>\n",
       "    </tr>\n",
       "  </tbody>\n",
       "</table>\n",
       "</div>"
      ],
      "text/plain": [
       "             race       stage\n",
       "count  401.000000  401.000000\n",
       "mean     2.194514    0.827930\n",
       "std      2.232055    0.377913\n",
       "min      1.000000    0.000000\n",
       "25%      1.000000    1.000000\n",
       "50%      1.000000    1.000000\n",
       "75%      3.000000    1.000000\n",
       "max      9.000000    1.000000"
      ]
     },
     "execution_count": 24,
     "metadata": {},
     "output_type": "execute_result"
    }
   ],
   "source": [
    "test_df.describe()"
   ]
  },
  {
   "cell_type": "code",
   "execution_count": 79,
   "id": "f03e601c-d90a-42eb-b50f-06370a8a435d",
   "metadata": {
    "tags": []
   },
   "outputs": [
    {
     "data": {
      "text/plain": [
       "0.4115853658536585"
      ]
     },
     "execution_count": 79,
     "metadata": {},
     "output_type": "execute_result"
    }
   ],
   "source": [
    "sum(train_df_agg.stage == 0) / len(train_df_agg)"
   ]
  },
  {
   "cell_type": "code",
   "execution_count": 80,
   "id": "1ed2e982-9b47-42eb-95cc-04380c404048",
   "metadata": {
    "tags": []
   },
   "outputs": [
    {
     "data": {
      "text/plain": [
       "0.5884146341463414"
      ]
     },
     "execution_count": 80,
     "metadata": {},
     "output_type": "execute_result"
    }
   ],
   "source": [
    "sum(train_df_agg.stage == 1) / len(train_df_agg)"
   ]
  },
  {
   "cell_type": "code",
   "execution_count": 81,
   "id": "76820a07-21b0-41e3-8786-b86864c31f9c",
   "metadata": {
    "tags": []
   },
   "outputs": [
    {
     "data": {
      "text/plain": [
       "234"
      ]
     },
     "execution_count": 81,
     "metadata": {},
     "output_type": "execute_result"
    }
   ],
   "source": [
    "sum(train_df_agg.race == 1)"
   ]
  },
  {
   "cell_type": "code",
   "execution_count": 82,
   "id": "071beeec-8064-4b6c-b75e-fa8e3ea519f6",
   "metadata": {
    "tags": []
   },
   "outputs": [
    {
     "data": {
      "text/plain": [
       "94"
      ]
     },
     "execution_count": 82,
     "metadata": {},
     "output_type": "execute_result"
    }
   ],
   "source": [
    "sum(train_df_agg.race != 1)"
   ]
  },
  {
   "cell_type": "code",
   "execution_count": 83,
   "id": "333815ef-339a-432c-9025-88aaf6f71c99",
   "metadata": {
    "tags": []
   },
   "outputs": [
    {
     "data": {
      "text/plain": [
       "0.4878048780487805"
      ]
     },
     "execution_count": 83,
     "metadata": {},
     "output_type": "execute_result"
    }
   ],
   "source": [
    "sum(valid_df_agg.stage == 0) / len(valid_df_agg)"
   ]
  },
  {
   "cell_type": "code",
   "execution_count": 84,
   "id": "eccdb4cf-b903-4343-ad2a-2e91143fdc83",
   "metadata": {
    "tags": []
   },
   "outputs": [
    {
     "data": {
      "text/plain": [
       "0.5121951219512195"
      ]
     },
     "execution_count": 84,
     "metadata": {},
     "output_type": "execute_result"
    }
   ],
   "source": [
    "sum(valid_df_agg.stage == 1) / len(valid_df_agg)"
   ]
  },
  {
   "cell_type": "code",
   "execution_count": 85,
   "id": "8019282c-e095-4a4a-bc79-a03cd56fca9e",
   "metadata": {
    "tags": []
   },
   "outputs": [
    {
     "data": {
      "text/plain": [
       "28"
      ]
     },
     "execution_count": 85,
     "metadata": {},
     "output_type": "execute_result"
    }
   ],
   "source": [
    "sum(valid_df_agg.race == 1)"
   ]
  },
  {
   "cell_type": "code",
   "execution_count": 86,
   "id": "61784afc-88ac-4c10-8ac9-2e6a311ca31d",
   "metadata": {
    "tags": []
   },
   "outputs": [
    {
     "data": {
      "text/plain": [
       "13"
      ]
     },
     "execution_count": 86,
     "metadata": {},
     "output_type": "execute_result"
    }
   ],
   "source": [
    "sum(valid_df_agg.race != 1)"
   ]
  },
  {
   "cell_type": "code",
   "execution_count": 87,
   "id": "bb5b4e26-20ac-4447-95f7-dce5c9241065",
   "metadata": {
    "tags": []
   },
   "outputs": [
    {
     "data": {
      "text/plain": [
       "0.6097560975609756"
      ]
     },
     "execution_count": 87,
     "metadata": {},
     "output_type": "execute_result"
    }
   ],
   "source": [
    "sum(test_df_agg.stage == 0) / len(test_df_agg)"
   ]
  },
  {
   "cell_type": "code",
   "execution_count": 88,
   "id": "03b88d60-7cf8-4b19-b837-cf7d9f0ba586",
   "metadata": {
    "tags": []
   },
   "outputs": [
    {
     "data": {
      "text/plain": [
       "0.3902439024390244"
      ]
     },
     "execution_count": 88,
     "metadata": {},
     "output_type": "execute_result"
    }
   ],
   "source": [
    "sum(test_df_agg.stage == 1) / len(test_df_agg)"
   ]
  },
  {
   "cell_type": "code",
   "execution_count": 89,
   "id": "9bf0adc0-8476-4b24-8976-64742d5c2c10",
   "metadata": {
    "tags": []
   },
   "outputs": [
    {
     "data": {
      "text/plain": [
       "32"
      ]
     },
     "execution_count": 89,
     "metadata": {},
     "output_type": "execute_result"
    }
   ],
   "source": [
    "sum(test_df_agg.race == 1)"
   ]
  },
  {
   "cell_type": "code",
   "execution_count": 90,
   "id": "d883d76f-1e32-42d9-82e9-a95c566f7705",
   "metadata": {
    "tags": []
   },
   "outputs": [
    {
     "data": {
      "text/plain": [
       "9"
      ]
     },
     "execution_count": 90,
     "metadata": {},
     "output_type": "execute_result"
    }
   ],
   "source": [
    "sum(test_df_agg.race != 1)"
   ]
  },
  {
   "cell_type": "code",
   "execution_count": 5,
   "id": "7972fe00-750c-42c2-9439-edb41ea4de50",
   "metadata": {
    "tags": []
   },
   "outputs": [
    {
     "data": {
      "text/plain": [
       "3982"
      ]
     },
     "execution_count": 5,
     "metadata": {},
     "output_type": "execute_result"
    }
   ],
   "source": [
    "len(df_filtered)"
   ]
  },
  {
   "cell_type": "code",
   "execution_count": 4,
   "id": "0c6ee072-4788-4365-8615-2c11a67984a3",
   "metadata": {
    "tags": []
   },
   "outputs": [
    {
     "data": {
      "image/png": "[encoded data removed]",
      "text/plain": [
       "<Figure size 640x480 with 1 Axes>"
      ]
     },
     "metadata": {},
     "output_type": "display_data"
    }
   ],
   "source": [
    "total_df_agg['race'].value_counts().plot(kind='bar')\n",
    "plt.title('Bar Plot of Categorical Column')\n",
    "plt.xlabel('Category')\n",
    "plt.ylabel('Frequency')\n",
    "plt.show()"
   ]
  },
  {
   "cell_type": "code",
   "execution_count": 9,
   "id": "d4dd4600-5747-4bfc-8107-64c237fc5124",
   "metadata": {
    "tags": []
   },
   "outputs": [
    {
     "data": {
      "image/png": "[encoded data removed]",
      "text/plain": [
       "<Figure size 640x480 with 1 Axes>"
      ]
     },
     "metadata": {},
     "output_type": "display_data"
    }
   ],
   "source": [
    "plt.hist(train_df_agg['race'])\n",
    "plt.title('Histogram of race')\n",
    "plt.xlabel('Value')\n",
    "plt.ylabel('Frequency')\n",
    "plt.show()"
   ]
  },
  {
   "cell_type": "code",
   "execution_count": 10,
   "id": "1a270765-f1d6-4402-8c85-68373ba1d74b",
   "metadata": {
    "tags": []
   },
   "outputs": [
    {
     "data": {
      "image/png": "[encoded data removed]",
      "text/plain": [
       "<Figure size 640x480 with 1 Axes>"
      ]
     },
     "metadata": {},
     "output_type": "display_data"
    }
   ],
   "source": [
    "sns.boxplot(x=train_df_agg['race'])\n",
    "plt.title('Boxplot of Your Column')\n",
    "plt.show()"
   ]
  },
  {
   "cell_type": "code",
   "execution_count": 11,
   "id": "0626604d-87f6-41d1-ae91-ed813c95abb7",
   "metadata": {
    "tags": []
   },
   "outputs": [
    {
     "data": {
      "image/png": "[encoded data removed]",
      "text/plain": [
       "<Figure size 640x480 with 1 Axes>"
      ]
     },
     "metadata": {},
     "output_type": "display_data"
    }
   ],
   "source": [
    "sns.violinplot(x=train_df_agg['race'])\n",
    "plt.title('Violin plot of Your Column')\n",
    "plt.show()"
   ]
  },
  {
   "cell_type": "code",
   "execution_count": 12,
   "id": "476ec055-ef59-43d5-88ab-bdac4d74d052",
   "metadata": {
    "tags": []
   },
   "outputs": [
    {
     "name": "stderr",
     "output_type": "stream",
     "text": [
      "/tmp/ipykernel_215/3200221255.py:1: FutureWarning: \n",
      "\n",
      "`shade` is now deprecated in favor of `fill`; setting `fill=True`.\n",
      "This will become an error in seaborn v0.14.0; please update your code.\n",
      "\n",
      "  sns.kdeplot(train_df_agg['race'], shade=True)\n"
     ]
    },
    {
     "data": {
      "image/png": "[encoded data removed]",
      "text/plain": [
       "<Figure size 640x480 with 1 Axes>"
      ]
     },
     "metadata": {},
     "output_type": "display_data"
    }
   ],
   "source": [
    "sns.kdeplot(train_df_agg['race'], shade=True)\n",
    "plt.title('Density Plot of Your Column')\n",
    "plt.xlabel('Value')\n",
    "plt.ylabel('Density')\n",
    "plt.show()"
   ]
  },
  {
   "cell_type": "code",
   "execution_count": 13,
   "id": "d9ceb094-9f0e-4d04-9a5a-cf7a9c2bebbf",
   "metadata": {
    "tags": []
   },
   "outputs": [
    {
     "data": {
      "image/png": "[encoded data removed]",
      "text/plain": [
       "<Figure size 640x480 with 1 Axes>"
      ]
     },
     "metadata": {},
     "output_type": "display_data"
    }
   ],
   "source": [
    "train_df_agg['race'].value_counts().plot(kind='bar')\n",
    "plt.title('Bar Plot of Categorical Column')\n",
    "plt.xlabel('Category')\n",
    "plt.ylabel('Frequency')\n",
    "plt.show()"
   ]
  },
  {
   "cell_type": "code",
   "execution_count": 14,
   "id": "f50072c7-0c01-4ef5-80a1-446d4bf877bd",
   "metadata": {
    "tags": []
   },
   "outputs": [
    {
     "data": {
      "image/png": "[encoded data removed]",
      "text/plain": [
       "<Figure size 640x480 with 1 Axes>"
      ]
     },
     "metadata": {},
     "output_type": "display_data"
    }
   ],
   "source": [
    "train_df_agg['race'].value_counts().plot(kind='pie', autopct='%1.1f%%')\n",
    "plt.title('Pie Chart of Categorical Column')\n",
    "plt.ylabel('')\n",
    "plt.show()"
   ]
  },
  {
   "cell_type": "code",
   "execution_count": 29,
   "id": "c3c95a53-9fe1-4b9e-ae07-6017f948858d",
   "metadata": {
    "tags": []
   },
   "outputs": [
    {
     "data": {
      "image/png": "[encoded data removed]",
      "text/plain": [
       "<Figure size 1000x1000 with 1 Axes>"
      ]
     },
     "metadata": {},
     "output_type": "display_data"
    }
   ],
   "source": [
    "# Assuming train_df_agg is your DataFrame and 'race' is the column of interest\n",
    "race_counts = train_df_agg['race'].value_counts()\n",
    "\n",
    "# Create an 'explode' tuple that has the same number of elements as there are categories\n",
    "# If you do not want to offset any slices, you can simply use\n",
    "explode = tuple([0] * len(race_counts))  # No slice is exploded\n",
    "\n",
    "# Or if you want to explode the first slice slightly, for example:\n",
    "explode = tuple([0.1] + [0] * (len(race_counts) - 1))  # Only the first slice is exploded\n",
    "# Colors and explode data\n",
    "colors = ['#ff9999','#66b3ff','#99ff99','#ffcc99','#c2c2f0','#ffb3e6', \"#aa38cc\"]\n",
    "\n",
    "\n",
    "# Creating the pie chart\n",
    "plt.figure(figsize=(10, 10))\n",
    "plt.pie(race_counts, labels=race_counts.index, autopct=lambda p: '{:.0f}%'.format(p) if p >= 5 else '', startangle=140, colors=colors, labeldistance=1.05, pctdistance=0.85)\n",
    "\n",
    "# Draw a circle at the center to turn it into a donut chart\n",
    "centre_circle = plt.Circle((0,0),0.70,fc='white')\n",
    "fig = plt.gcf()\n",
    "fig.gca().add_artist(centre_circle)\n",
    "\n",
    "# Equal aspect ratio ensures that pie is drawn as a circle\n",
    "plt.axis('equal')\n",
    "\n",
    "# Add a title and remove the y-axis label\n",
    "plt.title('Distribution of Race in the Dataset', pad=20)\n",
    "plt.ylabel('')  # You've already done this, just for completeness\n",
    "\n",
    "# Add a legend\n",
    "plt.legend(title='Races', loc='center left', bbox_to_anchor=(1, 0, 0.5, 1))\n",
    "\n",
    "# Show the plot\n",
    "plt.tight_layout()  # Adjust the layout to fit well\n",
    "plt.show()\n"
   ]
  },
  {
   "cell_type": "code",
   "execution_count": 3,
   "id": "26a75e6e-3984-4922-8035-b7a75939ece3",
   "metadata": {
    "tags": []
   },
   "outputs": [
    {
     "data": {
      "text/html": [
       "<div>\n",
       "<style scoped>\n",
       "    .dataframe tbody tr th:only-of-type {\n",
       "        vertical-align: middle;\n",
       "    }\n",
       "\n",
       "    .dataframe tbody tr th {\n",
       "        vertical-align: top;\n",
       "    }\n",
       "\n",
       "    .dataframe thead th {\n",
       "        text-align: right;\n",
       "    }\n",
       "</style>\n",
       "<table border=\"1\" class=\"dataframe\">\n",
       "  <thead>\n",
       "    <tr style=\"text-align: right;\">\n",
       "      <th></th>\n",
       "      <th>Unnamed: 0</th>\n",
       "      <th>biopsy_id</th>\n",
       "      <th>stage</th>\n",
       "      <th>race</th>\n",
       "      <th>slide_id</th>\n",
       "    </tr>\n",
       "  </thead>\n",
       "  <tbody>\n",
       "    <tr>\n",
       "      <th>101</th>\n",
       "      <td>101</td>\n",
       "      <td>0219944f-0fc7-485f-bdb7-7f59c08ade11</td>\n",
       "      <td>0</td>\n",
       "      <td>4</td>\n",
       "      <td>16e0483c-b40e-4bb9-b56e-6bb438f89bfd</td>\n",
       "    </tr>\n",
       "    <tr>\n",
       "      <th>102</th>\n",
       "      <td>102</td>\n",
       "      <td>0219944f-0fc7-485f-bdb7-7f59c08ade11</td>\n",
       "      <td>0</td>\n",
       "      <td>4</td>\n",
       "      <td>51cf622f-f466-436d-892c-d4bd92b2daa4</td>\n",
       "    </tr>\n",
       "    <tr>\n",
       "      <th>107</th>\n",
       "      <td>107</td>\n",
       "      <td>02590d75-3210-41ba-946d-35bd8b2e8c9b</td>\n",
       "      <td>1</td>\n",
       "      <td>1</td>\n",
       "      <td>11b6cf08-0627-4707-9987-fb2b3d32447c</td>\n",
       "    </tr>\n",
       "    <tr>\n",
       "      <th>108</th>\n",
       "      <td>108</td>\n",
       "      <td>02590d75-3210-41ba-946d-35bd8b2e8c9b</td>\n",
       "      <td>1</td>\n",
       "      <td>1</td>\n",
       "      <td>279682a0-7a03-4e9b-8044-2342a3c3a7e8</td>\n",
       "    </tr>\n",
       "    <tr>\n",
       "      <th>109</th>\n",
       "      <td>109</td>\n",
       "      <td>02590d75-3210-41ba-946d-35bd8b2e8c9b</td>\n",
       "      <td>1</td>\n",
       "      <td>1</td>\n",
       "      <td>adc2d2b3-0cb5-4241-91ce-2bf07604961a</td>\n",
       "    </tr>\n",
       "  </tbody>\n",
       "</table>\n",
       "</div>"
      ],
      "text/plain": [
       "     Unnamed: 0                             biopsy_id  stage  race   \n",
       "101         101  0219944f-0fc7-485f-bdb7-7f59c08ade11      0     4  \\\n",
       "102         102  0219944f-0fc7-485f-bdb7-7f59c08ade11      0     4   \n",
       "107         107  02590d75-3210-41ba-946d-35bd8b2e8c9b      1     1   \n",
       "108         108  02590d75-3210-41ba-946d-35bd8b2e8c9b      1     1   \n",
       "109         109  02590d75-3210-41ba-946d-35bd8b2e8c9b      1     1   \n",
       "\n",
       "                                 slide_id  \n",
       "101  16e0483c-b40e-4bb9-b56e-6bb438f89bfd  \n",
       "102  51cf622f-f466-436d-892c-d4bd92b2daa4  \n",
       "107  11b6cf08-0627-4707-9987-fb2b3d32447c  \n",
       "108  279682a0-7a03-4e9b-8044-2342a3c3a7e8  \n",
       "109  adc2d2b3-0cb5-4241-91ce-2bf07604961a  "
      ]
     },
     "execution_count": 3,
     "metadata": {},
     "output_type": "execute_result"
    }
   ],
   "source": [
    "train_df.head()"
   ]
  },
  {
   "cell_type": "code",
   "execution_count": 6,
   "id": "d31d0f93-554f-4a53-868f-ff6e54ede5df",
   "metadata": {
    "tags": []
   },
   "outputs": [
    {
     "name": "stdout",
     "output_type": "stream",
     "text": [
      "/home/ngsci/project/Armin\n"
     ]
    }
   ],
   "source": [
    "!pwd"
   ]
  },
  {
   "cell_type": "code",
   "execution_count": 25,
   "id": "4469c6a8-abbd-497a-ae4c-24a0b58196ba",
   "metadata": {
    "tags": []
   },
   "outputs": [],
   "source": [
    "train_df.to_csv(\"/home/ngsci/project/Armin/metadata_cr2/train.csv\", index=False)\n",
    "# valid_df.to_csv(\"/home/ngsci/project/Armin/metadata/valid.csv\", index=False)\n",
    "test_df.to_csv(\"/home/ngsci/project/Armin/metadata_cr2/test.csv\", index=False)"
   ]
  },
  {
   "cell_type": "code",
   "execution_count": 26,
   "id": "937bd48c-3ebf-4ffe-94d5-6bd36cea35d8",
   "metadata": {
    "tags": []
   },
   "outputs": [],
   "source": [
    "import seaborn as sns\n",
    "import matplotlib.pyplot as plt\n",
    "def plot_biopsy_per_race(df, title):\n",
    "    \"\"\"\n",
    "    Plots the count of biopsy_id per race.\n",
    "    \n",
    "    Parameters:\n",
    "        df (pd.DataFrame): The dataframe to plot.\n",
    "        title (str): Title for the plot.\n",
    "    \"\"\"\n",
    "    counts = df.drop_duplicates(subset=[\"biopsy_id\", \"race\"]).groupby(\"race\")[\"biopsy_id\"].count().reset_index()\n",
    "    \n",
    "    # Create the plot\n",
    "    plt.figure(figsize=(10, 6))\n",
    "    sns.barplot(x=\"race\", y=\"biopsy_id\", data=counts, palette=\"viridis\")\n",
    "    plt.xlabel(\"Race\")\n",
    "    plt.ylabel(\"Number of biopsy_id\")\n",
    "    plt.title(title)\n",
    "    plt.xticks(rotation=45)\n",
    "    plt.tight_layout()\n",
    "    plt.show()"
   ]
  },
  {
   "cell_type": "code",
   "execution_count": 27,
   "id": "e93ebb94-b0e3-4a73-893d-1cb2cdcece80",
   "metadata": {
    "tags": []
   },
   "outputs": [
    {
     "data": {
      "image/png": "[encoded data removed]",
      "text/plain": [
       "<Figure size 1000x600 with 1 Axes>"
      ]
     },
     "metadata": {},
     "output_type": "display_data"
    },
    {
     "data": {
      "image/png": "[encoded data removed]",
      "text/plain": [
       "<Figure size 1000x600 with 1 Axes>"
      ]
     },
     "metadata": {},
     "output_type": "display_data"
    }
   ],
   "source": [
    "plot_biopsy_per_race(train_df, \"Training Data: biopsy_id Count per Race\")\n",
    "# plot_biopsy_per_race(valid_df, \"Validation Data: biopsy_id Count per Race\")\n",
    "plot_biopsy_per_race(test_df, \"Test Data: biopsy_id Count per Race\")"
   ]
  },
  {
   "cell_type": "code",
   "execution_count": 28,
   "id": "77c540e6-ebaa-48ab-ba13-be27cf3a2e5a",
   "metadata": {
    "tags": []
   },
   "outputs": [],
   "source": [
    "def plot_biopsy_per_stage(df, title):\n",
    "    \"\"\"\n",
    "    Plots the count of biopsy_id per stage.\n",
    "    \n",
    "    Parameters:\n",
    "        df (pd.DataFrame): The dataframe to plot.\n",
    "        title (str): Title for the plot.\n",
    "    \"\"\"\n",
    "    counts = df.drop_duplicates(subset=[\"biopsy_id\", \"stage\"]).groupby(\"stage\")[\"biopsy_id\"].count().reset_index()\n",
    "    \n",
    "    plt.figure(figsize=(10, 6))\n",
    "    sns.barplot(x=\"stage\", y=\"biopsy_id\", data=counts, palette=\"viridis\")\n",
    "    plt.xlabel(\"Stage\")\n",
    "    plt.ylabel(\"Number of biopsy_id\")\n",
    "    plt.title(title)\n",
    "    plt.xticks(rotation=45)\n",
    "    plt.tight_layout()\n",
    "    plt.show()"
   ]
  },
  {
   "cell_type": "code",
   "execution_count": 29,
   "id": "0e8399c9-9aa6-43e2-bb0c-53ae201dc961",
   "metadata": {
    "tags": []
   },
   "outputs": [
    {
     "data": {
      "image/png": "[encoded data removed]",
      "text/plain": [
       "<Figure size 1000x600 with 1 Axes>"
      ]
     },
     "metadata": {},
     "output_type": "display_data"
    },
    {
     "data": {
      "image/png": "[encoded data removed]",
      "text/plain": [
       "<Figure size 1000x600 with 1 Axes>"
      ]
     },
     "metadata": {},
     "output_type": "display_data"
    }
   ],
   "source": [
    "plot_biopsy_per_stage(train_df, 'Training Data: biopsy_id Count per Stage')\n",
    "# plot_biopsy_per_stage(valid_df, 'Validation Data: biopsy_id Count per Stage')\n",
    "plot_biopsy_per_stage(test_df, 'Test Data: biopsy_id Count per Stage')"
   ]
  },
  {
   "cell_type": "code",
   "execution_count": 41,
   "id": "93a44501-4c11-479c-a0dd-4de3ef1907c9",
   "metadata": {},
   "outputs": [],
   "source": [
    "import os\n",
    "import shutil\n",
    "import pandas as pd\n",
    "\n",
    "def copy_images_to_structure(df, source_folder, target_folder):\n",
    "    \"\"\"\n",
    "    Copies images from the source folder to a new folder structure suitable for Image Folder.\n",
    "    \n",
    "    Parameters:\n",
    "        df (pd.DataFrame): DataFrame containing 'slide_id' and 'stage' columns.\n",
    "        source_folder (str): Path to the folder containing original images.\n",
    "        target_folder (str): Path to the target folder to store new folder structure.\n",
    "    \"\"\"\n",
    "    if not os.path.exists(target_folder):\n",
    "        os.makedirs(target_folder)\n",
    "    \n",
    "    for index, row in df.iterrows():\n",
    "        try:\n",
    "            file_name = row[\"slide_id\"] + \".png\"\n",
    "            class_label = str(row[\"stage\"])\n",
    "\n",
    "            new_path = os.path.join(target_folder, class_label)\n",
    "            if not os.path.exists(new_path):\n",
    "                os.makedirs(new_path)\n",
    "\n",
    "            shutil.copy(os.path.join(source_folder, file_name), os.path.join(new_path, file_name))\n",
    "        except Exception as err:\n",
    "            print(err)\n",
    "            "
   ]
  },
  {
   "cell_type": "code",
   "execution_count": 1,
   "id": "6dbaac4d-959e-4048-b374-a67e14a0f34b",
   "metadata": {
    "tags": []
   },
   "outputs": [
    {
     "name": "stdout",
     "output_type": "stream",
     "text": [
      "10846\n"
     ]
    }
   ],
   "source": [
    "!ls /home/ngsci/datasets/brca-psj-path/contest-phase-2/png-downsampled-train | wc -l"
   ]
  },
  {
   "cell_type": "code",
   "execution_count": 2,
   "id": "ced7cfe8-9e29-4de3-8990-8b467d63562d",
   "metadata": {
    "tags": []
   },
   "outputs": [
    {
     "name": "stdout",
     "output_type": "stream",
     "text": [
      "14466\n"
     ]
    }
   ],
   "source": [
    "!ls /home/ngsci/datasets/brca-psj-path/contest-phase-2/png-downsampled-holdout | wc -l"
   ]
  },
  {
   "cell_type": "code",
   "execution_count": null,
   "id": "9f61b7c5-5d43-47a6-8291-327a5ecae911",
   "metadata": {
    "tags": []
   },
   "outputs": [],
   "source": [
    "!ls /home/ngsci/datasets/brca-psj-path/ndpi | wc -l"
   ]
  },
  {
   "cell_type": "code",
   "execution_count": null,
   "id": "1c6e3eeb-e886-4959-9cd7-fda633d24fc3",
   "metadata": {},
   "outputs": [],
   "source": [
    "datasets/brca-psj-path/supplementary/contest-phase-2/png-downsampled-train/b202b88d-3a0e-47c8-a5e3-da2a333a6911.png"
   ]
  },
  {
   "cell_type": "code",
   "execution_count": 42,
   "id": "fab8969a-cb87-4ffa-8e2c-0003fc63351e",
   "metadata": {},
   "outputs": [],
   "source": [
    "source_folder = \"/home/ngsci/datasets/brca-psj-path/supplementary/contest-phase-2/png-downsampled-train\"\n",
    "target_folder_train = \"/home/ngsci/project/Armin/metadata_cr2/train\" \n",
    "# target_folder_valid = \"/home/ngsci/project/Armin/metadata/valid\"\n",
    "target_folder_test = \"/home/ngsci/project/Armin/metadata_cr2/test\"\n",
    "copy_images_to_structure(train_df, source_folder, target_folder_train)\n",
    "# copy_images_to_structure(valid_df, source_folder, target_folder_valid)\n",
    "copy_images_to_structure(test_df, source_folder, target_folder_test)"
   ]
  },
  {
   "cell_type": "code",
   "execution_count": 51,
   "id": "6f7261c0-2527-4374-8d17-0e099cce3597",
   "metadata": {
    "tags": []
   },
   "outputs": [
    {
     "name": "stdout",
     "output_type": "stream",
     "text": [
      "/home/ngsci/project/Armin\n"
     ]
    }
   ],
   "source": [
    "!pwd"
   ]
  },
  {
   "cell_type": "markdown",
   "id": "c33a6e28-1429-4214-ba54-a8add8199a95",
   "metadata": {},
   "source": [
    "## Prepare Dataset For three Classes"
   ]
  },
  {
   "cell_type": "code",
   "execution_count": 91,
   "id": "996d0ad1-4e0f-4935-84bd-1707a74a2bf2",
   "metadata": {
    "tags": []
   },
   "outputs": [],
   "source": [
    "import pandas as pd\n",
    "from sklearn.model_selection import train_test_split"
   ]
  },
  {
   "cell_type": "code",
   "execution_count": 92,
   "id": "750458d2-9368-4038-852a-4f447b9a9985",
   "metadata": {
    "tags": []
   },
   "outputs": [],
   "source": [
    "df = pd.read_csv(\"/home/ngsci/project/Armin/metadata/data.csv\")\n",
    "df.loc[df[\"stage\"].isin([1, 2]), \"stage\"] = 1\n",
    "df.loc[df[\"stage\"].isin([3, 4]), \"stage\"] = 2\n",
    "df.loc[df[\"stage\"] == 0, \"stage\"] = 0\n",
    "\n",
    "df = df[df[\"stage\"].isin([0, 1, 2])]\n",
    "biopsy_race = df.drop_duplicates(subset=[\"biopsy_id\", \"race\"])[[\"biopsy_id\", \"race\"]]\n",
    "\n",
    "train_biopsy, temp_biopsy = train_test_split(biopsy_race, test_size=0.2, random_state=42)\n",
    "valid_biopsy, test_biopsy = train_test_split(temp_biopsy, test_size=0.5, random_state=42)\n",
    "\n",
    "train_df = df[df[\"biopsy_id\"].isin(train_biopsy[\"biopsy_id\"])]\n",
    "valid_df = df[df[\"biopsy_id\"].isin(valid_biopsy[\"biopsy_id\"])]\n",
    "test_df = df[df[\"biopsy_id\"].isin(test_biopsy[\"biopsy_id\"])]"
   ]
  },
  {
   "cell_type": "code",
   "execution_count": 93,
   "id": "3acf5c79-5a96-4a93-a7d0-44bb9760b46c",
   "metadata": {
    "tags": []
   },
   "outputs": [],
   "source": [
    "train_df_agg = train_df.groupby(\"biopsy_id\").agg({\n",
    "    \"stage\": \"first\",\n",
    "    \"race\": \"first\"}).reset_index()\n",
    "valid_df_agg = valid_df.groupby(\"biopsy_id\").agg({\n",
    "    \"stage\": \"first\",\n",
    "    \"race\": \"first\"}).reset_index()\n",
    "test_df_agg = test_df.groupby(\"biopsy_id\").agg({\n",
    "    \"stage\": \"first\",\n",
    "    \"race\": \"first\"}).reset_index()\n",
    "total_df_agg = df_filtered.groupby(\"biopsy_id\").agg({\n",
    "    \"stage\": \"first\",\n",
    "    \"race\": \"first\"}).reset_index()"
   ]
  },
  {
   "cell_type": "code",
   "execution_count": 96,
   "id": "85195ecc-fbfd-44e4-9e19-a244d508cdad",
   "metadata": {
    "tags": []
   },
   "outputs": [
    {
     "data": {
      "text/plain": [
       "483"
      ]
     },
     "execution_count": 96,
     "metadata": {},
     "output_type": "execute_result"
    }
   ],
   "source": [
    "sum(train_df_agg.race == 1)"
   ]
  },
  {
   "cell_type": "code",
   "execution_count": 97,
   "id": "656be93e-c27f-48ae-81d4-db7877e1152c",
   "metadata": {
    "tags": []
   },
   "outputs": [
    {
     "data": {
      "text/plain": [
       "317"
      ]
     },
     "execution_count": 97,
     "metadata": {},
     "output_type": "execute_result"
    }
   ],
   "source": [
    "sum(train_df_agg.race != 1)"
   ]
  },
  {
   "cell_type": "code",
   "execution_count": 98,
   "id": "11651ac9-8ab8-464a-925b-683e8e05e042",
   "metadata": {
    "tags": []
   },
   "outputs": [
    {
     "data": {
      "text/plain": [
       "66"
      ]
     },
     "execution_count": 98,
     "metadata": {},
     "output_type": "execute_result"
    }
   ],
   "source": [
    "sum(valid_df_agg.race == 1)"
   ]
  },
  {
   "cell_type": "code",
   "execution_count": 99,
   "id": "7b82a9d3-2739-4eb9-908e-e504d99ca27e",
   "metadata": {
    "tags": []
   },
   "outputs": [
    {
     "data": {
      "text/plain": [
       "34"
      ]
     },
     "execution_count": 99,
     "metadata": {},
     "output_type": "execute_result"
    }
   ],
   "source": [
    "sum(valid_df_agg.race != 1)"
   ]
  },
  {
   "cell_type": "code",
   "execution_count": 100,
   "id": "3f6f8366-40ea-4673-a511-20ffe1ca018a",
   "metadata": {
    "tags": []
   },
   "outputs": [
    {
     "data": {
      "text/plain": [
       "61"
      ]
     },
     "execution_count": 100,
     "metadata": {},
     "output_type": "execute_result"
    }
   ],
   "source": [
    "sum(test_df_agg.race == 1)"
   ]
  },
  {
   "cell_type": "code",
   "execution_count": 101,
   "id": "81fcb8a2-def4-4923-a9da-db0d9605fc86",
   "metadata": {
    "tags": []
   },
   "outputs": [
    {
     "data": {
      "text/plain": [
       "39"
      ]
     },
     "execution_count": 101,
     "metadata": {},
     "output_type": "execute_result"
    }
   ],
   "source": [
    "sum(test_df_agg.race != 1)"
   ]
  },
  {
   "cell_type": "code",
   "execution_count": 94,
   "id": "2086421c-389f-423f-9e0a-2881070c08ee",
   "metadata": {
    "tags": []
   },
   "outputs": [
    {
     "data": {
      "text/plain": [
       "0.1825"
      ]
     },
     "execution_count": 94,
     "metadata": {},
     "output_type": "execute_result"
    }
   ],
   "source": [
    "sum(train_df_agg.stage == 0) / len(train_df_agg)"
   ]
  },
  {
   "cell_type": "code",
   "execution_count": 95,
   "id": "9b20f4a1-5d62-4b1b-ba3a-d8f6d8d2b253",
   "metadata": {
    "tags": []
   },
   "outputs": [
    {
     "data": {
      "text/plain": [
       "0.58"
      ]
     },
     "execution_count": 95,
     "metadata": {},
     "output_type": "execute_result"
    }
   ],
   "source": [
    "sum(train_df_agg.stage == 1) / len(train_df_agg)"
   ]
  },
  {
   "cell_type": "code",
   "execution_count": 34,
   "id": "ecc8d9ad-ba54-4f70-832e-0da3ce88817a",
   "metadata": {
    "tags": []
   },
   "outputs": [
    {
     "data": {
      "text/plain": [
       "0.2375"
      ]
     },
     "execution_count": 34,
     "metadata": {},
     "output_type": "execute_result"
    }
   ],
   "source": [
    "sum(train_df_agg.stage == 2) / len(train_df_agg)"
   ]
  },
  {
   "cell_type": "code",
   "execution_count": 35,
   "id": "a5423aa7-5ebf-4a2a-a1c3-9843a9b0b43b",
   "metadata": {
    "tags": []
   },
   "outputs": [
    {
     "data": {
      "text/plain": [
       "0.16"
      ]
     },
     "execution_count": 35,
     "metadata": {},
     "output_type": "execute_result"
    }
   ],
   "source": [
    "sum(valid_df_agg.stage == 0) / len(valid_df_agg)"
   ]
  },
  {
   "cell_type": "code",
   "execution_count": 36,
   "id": "fec0cea6-b22d-40d9-a9e1-4a17ebe6697c",
   "metadata": {
    "tags": []
   },
   "outputs": [
    {
     "data": {
      "text/plain": [
       "0.6"
      ]
     },
     "execution_count": 36,
     "metadata": {},
     "output_type": "execute_result"
    }
   ],
   "source": [
    "sum(valid_df_agg.stage == 1) / len(valid_df_agg)"
   ]
  },
  {
   "cell_type": "code",
   "execution_count": 37,
   "id": "65e7caf6-631c-4785-a9e2-18ecb11e099d",
   "metadata": {
    "tags": []
   },
   "outputs": [
    {
     "data": {
      "text/plain": [
       "0.24"
      ]
     },
     "execution_count": 37,
     "metadata": {},
     "output_type": "execute_result"
    }
   ],
   "source": [
    "sum(valid_df_agg.stage == 2) / len(valid_df_agg)"
   ]
  },
  {
   "cell_type": "code",
   "execution_count": 38,
   "id": "cba07e7c-87bb-40e0-9d70-c5aef7864501",
   "metadata": {
    "tags": []
   },
   "outputs": [
    {
     "data": {
      "text/plain": [
       "0.18"
      ]
     },
     "execution_count": 38,
     "metadata": {},
     "output_type": "execute_result"
    }
   ],
   "source": [
    "sum(test_df_agg.stage == 0) / len(test_df_agg)"
   ]
  },
  {
   "cell_type": "code",
   "execution_count": 39,
   "id": "b944dfd1-b830-483a-aab3-3d72265ad3d8",
   "metadata": {
    "tags": []
   },
   "outputs": [
    {
     "data": {
      "text/plain": [
       "0.66"
      ]
     },
     "execution_count": 39,
     "metadata": {},
     "output_type": "execute_result"
    }
   ],
   "source": [
    "sum(test_df_agg.stage == 1) / len(test_df_agg)"
   ]
  },
  {
   "cell_type": "code",
   "execution_count": 40,
   "id": "e287bff9-3a82-4458-96a0-98f0e51bc934",
   "metadata": {
    "tags": []
   },
   "outputs": [
    {
     "data": {
      "text/plain": [
       "0.16"
      ]
     },
     "execution_count": 40,
     "metadata": {},
     "output_type": "execute_result"
    }
   ],
   "source": [
    "sum(test_df_agg.stage == 2) / len(test_df_agg)"
   ]
  },
  {
   "cell_type": "code",
   "execution_count": 23,
   "id": "5d41f1bc-08d2-4835-ad76-49490d16fca8",
   "metadata": {
    "tags": []
   },
   "outputs": [
    {
     "data": {
      "text/html": [
       "<div>\n",
       "<style scoped>\n",
       "    .dataframe tbody tr th:only-of-type {\n",
       "        vertical-align: middle;\n",
       "    }\n",
       "\n",
       "    .dataframe tbody tr th {\n",
       "        vertical-align: top;\n",
       "    }\n",
       "\n",
       "    .dataframe thead th {\n",
       "        text-align: right;\n",
       "    }\n",
       "</style>\n",
       "<table border=\"1\" class=\"dataframe\">\n",
       "  <thead>\n",
       "    <tr style=\"text-align: right;\">\n",
       "      <th></th>\n",
       "      <th>Unnamed: 0</th>\n",
       "      <th>biopsy_id</th>\n",
       "      <th>stage</th>\n",
       "      <th>race</th>\n",
       "      <th>slide_id</th>\n",
       "    </tr>\n",
       "  </thead>\n",
       "  <tbody>\n",
       "    <tr>\n",
       "      <th>0</th>\n",
       "      <td>0</td>\n",
       "      <td>00047e6d-cf9e-41f8-8901-eb9b0fe155a6</td>\n",
       "      <td>1</td>\n",
       "      <td>4</td>\n",
       "      <td>028ad74f-ebd7-45e5-92da-b0f2ded35fdf</td>\n",
       "    </tr>\n",
       "    <tr>\n",
       "      <th>1</th>\n",
       "      <td>1</td>\n",
       "      <td>00047e6d-cf9e-41f8-8901-eb9b0fe155a6</td>\n",
       "      <td>1</td>\n",
       "      <td>4</td>\n",
       "      <td>0d677646-f6f8-4303-9c2c-4e7a39d8fdbb</td>\n",
       "    </tr>\n",
       "    <tr>\n",
       "      <th>2</th>\n",
       "      <td>2</td>\n",
       "      <td>00047e6d-cf9e-41f8-8901-eb9b0fe155a6</td>\n",
       "      <td>1</td>\n",
       "      <td>4</td>\n",
       "      <td>4716c9f5-1eba-444a-9658-39c0cab80f05</td>\n",
       "    </tr>\n",
       "    <tr>\n",
       "      <th>3</th>\n",
       "      <td>3</td>\n",
       "      <td>00047e6d-cf9e-41f8-8901-eb9b0fe155a6</td>\n",
       "      <td>1</td>\n",
       "      <td>4</td>\n",
       "      <td>6d9c5580-246b-4c29-a61f-674a2c07a556</td>\n",
       "    </tr>\n",
       "    <tr>\n",
       "      <th>4</th>\n",
       "      <td>4</td>\n",
       "      <td>00047e6d-cf9e-41f8-8901-eb9b0fe155a6</td>\n",
       "      <td>1</td>\n",
       "      <td>4</td>\n",
       "      <td>7787542f-9bea-419b-b3fd-84de67ddc42e</td>\n",
       "    </tr>\n",
       "  </tbody>\n",
       "</table>\n",
       "</div>"
      ],
      "text/plain": [
       "   Unnamed: 0                             biopsy_id  stage  race   \n",
       "0           0  00047e6d-cf9e-41f8-8901-eb9b0fe155a6      1     4  \\\n",
       "1           1  00047e6d-cf9e-41f8-8901-eb9b0fe155a6      1     4   \n",
       "2           2  00047e6d-cf9e-41f8-8901-eb9b0fe155a6      1     4   \n",
       "3           3  00047e6d-cf9e-41f8-8901-eb9b0fe155a6      1     4   \n",
       "4           4  00047e6d-cf9e-41f8-8901-eb9b0fe155a6      1     4   \n",
       "\n",
       "                               slide_id  \n",
       "0  028ad74f-ebd7-45e5-92da-b0f2ded35fdf  \n",
       "1  0d677646-f6f8-4303-9c2c-4e7a39d8fdbb  \n",
       "2  4716c9f5-1eba-444a-9658-39c0cab80f05  \n",
       "3  6d9c5580-246b-4c29-a61f-674a2c07a556  \n",
       "4  7787542f-9bea-419b-b3fd-84de67ddc42e  "
      ]
     },
     "execution_count": 23,
     "metadata": {},
     "output_type": "execute_result"
    }
   ],
   "source": [
    "train_df.head()"
   ]
  },
  {
   "cell_type": "code",
   "execution_count": 28,
   "id": "1b48114a-b9b9-49d1-a2b4-2090a7aadb00",
   "metadata": {
    "tags": []
   },
   "outputs": [
    {
     "data": {
      "text/html": [
       "<div>\n",
       "<style scoped>\n",
       "    .dataframe tbody tr th:only-of-type {\n",
       "        vertical-align: middle;\n",
       "    }\n",
       "\n",
       "    .dataframe tbody tr th {\n",
       "        vertical-align: top;\n",
       "    }\n",
       "\n",
       "    .dataframe thead th {\n",
       "        text-align: right;\n",
       "    }\n",
       "</style>\n",
       "<table border=\"1\" class=\"dataframe\">\n",
       "  <thead>\n",
       "    <tr style=\"text-align: right;\">\n",
       "      <th></th>\n",
       "      <th>stage</th>\n",
       "      <th>race</th>\n",
       "    </tr>\n",
       "  </thead>\n",
       "  <tbody>\n",
       "    <tr>\n",
       "      <th>count</th>\n",
       "      <td>800.00000</td>\n",
       "      <td>800.000000</td>\n",
       "    </tr>\n",
       "    <tr>\n",
       "      <th>mean</th>\n",
       "      <td>1.05500</td>\n",
       "      <td>2.912500</td>\n",
       "    </tr>\n",
       "    <tr>\n",
       "      <th>std</th>\n",
       "      <td>0.64614</td>\n",
       "      <td>2.840322</td>\n",
       "    </tr>\n",
       "    <tr>\n",
       "      <th>min</th>\n",
       "      <td>0.00000</td>\n",
       "      <td>1.000000</td>\n",
       "    </tr>\n",
       "    <tr>\n",
       "      <th>25%</th>\n",
       "      <td>1.00000</td>\n",
       "      <td>1.000000</td>\n",
       "    </tr>\n",
       "    <tr>\n",
       "      <th>50%</th>\n",
       "      <td>1.00000</td>\n",
       "      <td>1.000000</td>\n",
       "    </tr>\n",
       "    <tr>\n",
       "      <th>75%</th>\n",
       "      <td>1.00000</td>\n",
       "      <td>4.000000</td>\n",
       "    </tr>\n",
       "    <tr>\n",
       "      <th>max</th>\n",
       "      <td>2.00000</td>\n",
       "      <td>9.000000</td>\n",
       "    </tr>\n",
       "  </tbody>\n",
       "</table>\n",
       "</div>"
      ],
      "text/plain": [
       "           stage        race\n",
       "count  800.00000  800.000000\n",
       "mean     1.05500    2.912500\n",
       "std      0.64614    2.840322\n",
       "min      0.00000    1.000000\n",
       "25%      1.00000    1.000000\n",
       "50%      1.00000    1.000000\n",
       "75%      1.00000    4.000000\n",
       "max      2.00000    9.000000"
      ]
     },
     "execution_count": 28,
     "metadata": {},
     "output_type": "execute_result"
    }
   ],
   "source": [
    "train_df_agg.describe()"
   ]
  },
  {
   "cell_type": "code",
   "execution_count": 24,
   "id": "1e51955f-f253-4fe1-a46a-ede0903995c3",
   "metadata": {
    "tags": []
   },
   "outputs": [
    {
     "data": {
      "text/html": [
       "<div>\n",
       "<style scoped>\n",
       "    .dataframe tbody tr th:only-of-type {\n",
       "        vertical-align: middle;\n",
       "    }\n",
       "\n",
       "    .dataframe tbody tr th {\n",
       "        vertical-align: top;\n",
       "    }\n",
       "\n",
       "    .dataframe thead th {\n",
       "        text-align: right;\n",
       "    }\n",
       "</style>\n",
       "<table border=\"1\" class=\"dataframe\">\n",
       "  <thead>\n",
       "    <tr style=\"text-align: right;\">\n",
       "      <th></th>\n",
       "      <th>Unnamed: 0</th>\n",
       "      <th>stage</th>\n",
       "      <th>race</th>\n",
       "    </tr>\n",
       "  </thead>\n",
       "  <tbody>\n",
       "    <tr>\n",
       "      <th>count</th>\n",
       "      <td>8847.000000</td>\n",
       "      <td>8847.000000</td>\n",
       "      <td>8847.000000</td>\n",
       "    </tr>\n",
       "    <tr>\n",
       "      <th>mean</th>\n",
       "      <td>5339.933989</td>\n",
       "      <td>1.249576</td>\n",
       "      <td>3.462643</td>\n",
       "    </tr>\n",
       "    <tr>\n",
       "      <th>std</th>\n",
       "      <td>3106.799383</td>\n",
       "      <td>0.550310</td>\n",
       "      <td>3.003679</td>\n",
       "    </tr>\n",
       "    <tr>\n",
       "      <th>min</th>\n",
       "      <td>0.000000</td>\n",
       "      <td>0.000000</td>\n",
       "      <td>1.000000</td>\n",
       "    </tr>\n",
       "    <tr>\n",
       "      <th>25%</th>\n",
       "      <td>2567.500000</td>\n",
       "      <td>1.000000</td>\n",
       "      <td>1.000000</td>\n",
       "    </tr>\n",
       "    <tr>\n",
       "      <th>50%</th>\n",
       "      <td>5306.000000</td>\n",
       "      <td>1.000000</td>\n",
       "      <td>2.000000</td>\n",
       "    </tr>\n",
       "    <tr>\n",
       "      <th>75%</th>\n",
       "      <td>8031.500000</td>\n",
       "      <td>2.000000</td>\n",
       "      <td>5.000000</td>\n",
       "    </tr>\n",
       "    <tr>\n",
       "      <th>max</th>\n",
       "      <td>10845.000000</td>\n",
       "      <td>2.000000</td>\n",
       "      <td>9.000000</td>\n",
       "    </tr>\n",
       "  </tbody>\n",
       "</table>\n",
       "</div>"
      ],
      "text/plain": [
       "         Unnamed: 0        stage         race\n",
       "count   8847.000000  8847.000000  8847.000000\n",
       "mean    5339.933989     1.249576     3.462643\n",
       "std     3106.799383     0.550310     3.003679\n",
       "min        0.000000     0.000000     1.000000\n",
       "25%     2567.500000     1.000000     1.000000\n",
       "50%     5306.000000     1.000000     2.000000\n",
       "75%     8031.500000     2.000000     5.000000\n",
       "max    10845.000000     2.000000     9.000000"
      ]
     },
     "execution_count": 24,
     "metadata": {},
     "output_type": "execute_result"
    }
   ],
   "source": [
    "train_df.describe()"
   ]
  },
  {
   "cell_type": "code",
   "execution_count": 25,
   "id": "34095e60-5d72-4bdd-97be-6dcbc9ad4aaf",
   "metadata": {
    "tags": []
   },
   "outputs": [
    {
     "data": {
      "text/html": [
       "<div>\n",
       "<style scoped>\n",
       "    .dataframe tbody tr th:only-of-type {\n",
       "        vertical-align: middle;\n",
       "    }\n",
       "\n",
       "    .dataframe tbody tr th {\n",
       "        vertical-align: top;\n",
       "    }\n",
       "\n",
       "    .dataframe thead th {\n",
       "        text-align: right;\n",
       "    }\n",
       "</style>\n",
       "<table border=\"1\" class=\"dataframe\">\n",
       "  <thead>\n",
       "    <tr style=\"text-align: right;\">\n",
       "      <th></th>\n",
       "      <th>Unnamed: 0</th>\n",
       "      <th>stage</th>\n",
       "      <th>race</th>\n",
       "    </tr>\n",
       "  </thead>\n",
       "  <tbody>\n",
       "    <tr>\n",
       "      <th>count</th>\n",
       "      <td>967.000000</td>\n",
       "      <td>967.000000</td>\n",
       "      <td>967.000000</td>\n",
       "    </tr>\n",
       "    <tr>\n",
       "      <th>mean</th>\n",
       "      <td>6071.396070</td>\n",
       "      <td>1.291624</td>\n",
       "      <td>3.622544</td>\n",
       "    </tr>\n",
       "    <tr>\n",
       "      <th>std</th>\n",
       "      <td>2987.845901</td>\n",
       "      <td>0.566273</td>\n",
       "      <td>3.288607</td>\n",
       "    </tr>\n",
       "    <tr>\n",
       "      <th>min</th>\n",
       "      <td>103.000000</td>\n",
       "      <td>0.000000</td>\n",
       "      <td>1.000000</td>\n",
       "    </tr>\n",
       "    <tr>\n",
       "      <th>25%</th>\n",
       "      <td>3493.500000</td>\n",
       "      <td>1.000000</td>\n",
       "      <td>1.000000</td>\n",
       "    </tr>\n",
       "    <tr>\n",
       "      <th>50%</th>\n",
       "      <td>6399.000000</td>\n",
       "      <td>1.000000</td>\n",
       "      <td>1.000000</td>\n",
       "    </tr>\n",
       "    <tr>\n",
       "      <th>75%</th>\n",
       "      <td>8621.500000</td>\n",
       "      <td>2.000000</td>\n",
       "      <td>8.000000</td>\n",
       "    </tr>\n",
       "    <tr>\n",
       "      <th>max</th>\n",
       "      <td>10792.000000</td>\n",
       "      <td>2.000000</td>\n",
       "      <td>9.000000</td>\n",
       "    </tr>\n",
       "  </tbody>\n",
       "</table>\n",
       "</div>"
      ],
      "text/plain": [
       "         Unnamed: 0       stage        race\n",
       "count    967.000000  967.000000  967.000000\n",
       "mean    6071.396070    1.291624    3.622544\n",
       "std     2987.845901    0.566273    3.288607\n",
       "min      103.000000    0.000000    1.000000\n",
       "25%     3493.500000    1.000000    1.000000\n",
       "50%     6399.000000    1.000000    1.000000\n",
       "75%     8621.500000    2.000000    8.000000\n",
       "max    10792.000000    2.000000    9.000000"
      ]
     },
     "execution_count": 25,
     "metadata": {},
     "output_type": "execute_result"
    }
   ],
   "source": [
    "valid_df.describe()"
   ]
  },
  {
   "cell_type": "code",
   "execution_count": 29,
   "id": "768e3884-07b7-4b31-8bfe-9e854438178e",
   "metadata": {
    "tags": []
   },
   "outputs": [
    {
     "data": {
      "text/html": [
       "<div>\n",
       "<style scoped>\n",
       "    .dataframe tbody tr th:only-of-type {\n",
       "        vertical-align: middle;\n",
       "    }\n",
       "\n",
       "    .dataframe tbody tr th {\n",
       "        vertical-align: top;\n",
       "    }\n",
       "\n",
       "    .dataframe thead th {\n",
       "        text-align: right;\n",
       "    }\n",
       "</style>\n",
       "<table border=\"1\" class=\"dataframe\">\n",
       "  <thead>\n",
       "    <tr style=\"text-align: right;\">\n",
       "      <th></th>\n",
       "      <th>stage</th>\n",
       "      <th>race</th>\n",
       "    </tr>\n",
       "  </thead>\n",
       "  <tbody>\n",
       "    <tr>\n",
       "      <th>count</th>\n",
       "      <td>100.000000</td>\n",
       "      <td>100.000000</td>\n",
       "    </tr>\n",
       "    <tr>\n",
       "      <th>mean</th>\n",
       "      <td>1.080000</td>\n",
       "      <td>2.900000</td>\n",
       "    </tr>\n",
       "    <tr>\n",
       "      <th>std</th>\n",
       "      <td>0.630536</td>\n",
       "      <td>3.036811</td>\n",
       "    </tr>\n",
       "    <tr>\n",
       "      <th>min</th>\n",
       "      <td>0.000000</td>\n",
       "      <td>1.000000</td>\n",
       "    </tr>\n",
       "    <tr>\n",
       "      <th>25%</th>\n",
       "      <td>1.000000</td>\n",
       "      <td>1.000000</td>\n",
       "    </tr>\n",
       "    <tr>\n",
       "      <th>50%</th>\n",
       "      <td>1.000000</td>\n",
       "      <td>1.000000</td>\n",
       "    </tr>\n",
       "    <tr>\n",
       "      <th>75%</th>\n",
       "      <td>1.000000</td>\n",
       "      <td>4.000000</td>\n",
       "    </tr>\n",
       "    <tr>\n",
       "      <th>max</th>\n",
       "      <td>2.000000</td>\n",
       "      <td>9.000000</td>\n",
       "    </tr>\n",
       "  </tbody>\n",
       "</table>\n",
       "</div>"
      ],
      "text/plain": [
       "            stage        race\n",
       "count  100.000000  100.000000\n",
       "mean     1.080000    2.900000\n",
       "std      0.630536    3.036811\n",
       "min      0.000000    1.000000\n",
       "25%      1.000000    1.000000\n",
       "50%      1.000000    1.000000\n",
       "75%      1.000000    4.000000\n",
       "max      2.000000    9.000000"
      ]
     },
     "execution_count": 29,
     "metadata": {},
     "output_type": "execute_result"
    }
   ],
   "source": [
    "valid_df_agg.describe()"
   ]
  },
  {
   "cell_type": "code",
   "execution_count": 26,
   "id": "90252cf9-94bf-47a0-ad60-4418fc2d7d7f",
   "metadata": {
    "tags": []
   },
   "outputs": [
    {
     "data": {
      "text/html": [
       "<div>\n",
       "<style scoped>\n",
       "    .dataframe tbody tr th:only-of-type {\n",
       "        vertical-align: middle;\n",
       "    }\n",
       "\n",
       "    .dataframe tbody tr th {\n",
       "        vertical-align: top;\n",
       "    }\n",
       "\n",
       "    .dataframe thead th {\n",
       "        text-align: right;\n",
       "    }\n",
       "</style>\n",
       "<table border=\"1\" class=\"dataframe\">\n",
       "  <thead>\n",
       "    <tr style=\"text-align: right;\">\n",
       "      <th></th>\n",
       "      <th>Unnamed: 0</th>\n",
       "      <th>stage</th>\n",
       "      <th>race</th>\n",
       "    </tr>\n",
       "  </thead>\n",
       "  <tbody>\n",
       "    <tr>\n",
       "      <th>count</th>\n",
       "      <td>1032.000000</td>\n",
       "      <td>1032.000000</td>\n",
       "      <td>1032.000000</td>\n",
       "    </tr>\n",
       "    <tr>\n",
       "      <th>mean</th>\n",
       "      <td>5522.285853</td>\n",
       "      <td>1.222868</td>\n",
       "      <td>3.645349</td>\n",
       "    </tr>\n",
       "    <tr>\n",
       "      <th>std</th>\n",
       "      <td>3388.552978</td>\n",
       "      <td>0.547227</td>\n",
       "      <td>3.023702</td>\n",
       "    </tr>\n",
       "    <tr>\n",
       "      <th>min</th>\n",
       "      <td>364.000000</td>\n",
       "      <td>0.000000</td>\n",
       "      <td>1.000000</td>\n",
       "    </tr>\n",
       "    <tr>\n",
       "      <th>25%</th>\n",
       "      <td>2990.750000</td>\n",
       "      <td>1.000000</td>\n",
       "      <td>1.000000</td>\n",
       "    </tr>\n",
       "    <tr>\n",
       "      <th>50%</th>\n",
       "      <td>4747.500000</td>\n",
       "      <td>1.000000</td>\n",
       "      <td>2.000000</td>\n",
       "    </tr>\n",
       "    <tr>\n",
       "      <th>75%</th>\n",
       "      <td>8882.250000</td>\n",
       "      <td>2.000000</td>\n",
       "      <td>8.000000</td>\n",
       "    </tr>\n",
       "    <tr>\n",
       "      <th>max</th>\n",
       "      <td>10840.000000</td>\n",
       "      <td>2.000000</td>\n",
       "      <td>9.000000</td>\n",
       "    </tr>\n",
       "  </tbody>\n",
       "</table>\n",
       "</div>"
      ],
      "text/plain": [
       "         Unnamed: 0        stage         race\n",
       "count   1032.000000  1032.000000  1032.000000\n",
       "mean    5522.285853     1.222868     3.645349\n",
       "std     3388.552978     0.547227     3.023702\n",
       "min      364.000000     0.000000     1.000000\n",
       "25%     2990.750000     1.000000     1.000000\n",
       "50%     4747.500000     1.000000     2.000000\n",
       "75%     8882.250000     2.000000     8.000000\n",
       "max    10840.000000     2.000000     9.000000"
      ]
     },
     "execution_count": 26,
     "metadata": {},
     "output_type": "execute_result"
    }
   ],
   "source": [
    "test_df.describe()"
   ]
  },
  {
   "cell_type": "code",
   "execution_count": 30,
   "id": "13a19a52-66f6-4bbf-8094-f634f4589a71",
   "metadata": {
    "tags": []
   },
   "outputs": [
    {
     "data": {
      "text/html": [
       "<div>\n",
       "<style scoped>\n",
       "    .dataframe tbody tr th:only-of-type {\n",
       "        vertical-align: middle;\n",
       "    }\n",
       "\n",
       "    .dataframe tbody tr th {\n",
       "        vertical-align: top;\n",
       "    }\n",
       "\n",
       "    .dataframe thead th {\n",
       "        text-align: right;\n",
       "    }\n",
       "</style>\n",
       "<table border=\"1\" class=\"dataframe\">\n",
       "  <thead>\n",
       "    <tr style=\"text-align: right;\">\n",
       "      <th></th>\n",
       "      <th>stage</th>\n",
       "      <th>race</th>\n",
       "    </tr>\n",
       "  </thead>\n",
       "  <tbody>\n",
       "    <tr>\n",
       "      <th>count</th>\n",
       "      <td>100.000000</td>\n",
       "      <td>100.000000</td>\n",
       "    </tr>\n",
       "    <tr>\n",
       "      <th>mean</th>\n",
       "      <td>0.980000</td>\n",
       "      <td>2.940000</td>\n",
       "    </tr>\n",
       "    <tr>\n",
       "      <th>std</th>\n",
       "      <td>0.585688</td>\n",
       "      <td>2.891366</td>\n",
       "    </tr>\n",
       "    <tr>\n",
       "      <th>min</th>\n",
       "      <td>0.000000</td>\n",
       "      <td>1.000000</td>\n",
       "    </tr>\n",
       "    <tr>\n",
       "      <th>25%</th>\n",
       "      <td>1.000000</td>\n",
       "      <td>1.000000</td>\n",
       "    </tr>\n",
       "    <tr>\n",
       "      <th>50%</th>\n",
       "      <td>1.000000</td>\n",
       "      <td>1.000000</td>\n",
       "    </tr>\n",
       "    <tr>\n",
       "      <th>75%</th>\n",
       "      <td>1.000000</td>\n",
       "      <td>4.000000</td>\n",
       "    </tr>\n",
       "    <tr>\n",
       "      <th>max</th>\n",
       "      <td>2.000000</td>\n",
       "      <td>9.000000</td>\n",
       "    </tr>\n",
       "  </tbody>\n",
       "</table>\n",
       "</div>"
      ],
      "text/plain": [
       "            stage        race\n",
       "count  100.000000  100.000000\n",
       "mean     0.980000    2.940000\n",
       "std      0.585688    2.891366\n",
       "min      0.000000    1.000000\n",
       "25%      1.000000    1.000000\n",
       "50%      1.000000    1.000000\n",
       "75%      1.000000    4.000000\n",
       "max      2.000000    9.000000"
      ]
     },
     "execution_count": 30,
     "metadata": {},
     "output_type": "execute_result"
    }
   ],
   "source": [
    "test_df_agg.describe()"
   ]
  },
  {
   "cell_type": "code",
   "execution_count": null,
   "id": "6be31b88-62c1-4df7-9786-b9d486d33b0d",
   "metadata": {},
   "outputs": [],
   "source": [
    "train_df.to_csv(\"home/ngsci/project/metadata2/train.csv\", index=False)\n",
    "valid_df.to_csv(\"home/ngsci/project/metadata2/valid.csv\", index=False)\n",
    "test_df.to_csv(\"home/ngsci/project/metadata2/test.csv\", index=False)"
   ]
  },
  {
   "cell_type": "code",
   "execution_count": 4,
   "id": "71873971-c13a-4ba5-a143-13949cfb9dd1",
   "metadata": {
    "tags": []
   },
   "outputs": [],
   "source": [
    "import seaborn as sns\n",
    "import matplotlib.pyplot as plt\n",
    "def plot_biopsy_per_race(df, title):\n",
    "    \"\"\"\n",
    "    Plots the count of biopsy_id per race.\n",
    "    \n",
    "    Parameters:\n",
    "        df (pd.DataFrame): The dataframe to plot.\n",
    "        title (str): Title for the plot.\n",
    "    \"\"\"\n",
    "    counts = df.drop_duplicates(subset=[\"biopsy_id\", \"race\"]).groupby(\"race\")[\"biopsy_id\"].count().reset_index()\n",
    "    \n",
    "    # Create the plot\n",
    "    plt.figure(figsize=(10, 6))\n",
    "    sns.barplot(x=\"race\", y=\"biopsy_id\", data=counts, palette=\"viridis\")\n",
    "    plt.xlabel(\"Race\")\n",
    "    plt.ylabel(\"Number of biopsy_id\")\n",
    "    plt.title(title)\n",
    "    plt.xticks(rotation=45)\n",
    "    plt.tight_layout()\n",
    "    plt.show()"
   ]
  },
  {
   "cell_type": "code",
   "execution_count": 5,
   "id": "13a2edfc-10b3-4f23-a40d-b599a43bbcb1",
   "metadata": {
    "tags": []
   },
   "outputs": [
    {
     "data": {
      "image/png": "[encoded data removed]",
      "text/plain": [
       "<Figure size 1000x600 with 1 Axes>"
      ]
     },
     "metadata": {},
     "output_type": "display_data"
    },
    {
     "data": {
      "image/png": "[encoded data removed]",
      "text/plain": [
       "<Figure size 1000x600 with 1 Axes>"
      ]
     },
     "metadata": {},
     "output_type": "display_data"
    },
    {
     "data": {
      "image/png": "[encoded data removed]",
      "text/plain": [
       "<Figure size 1000x600 with 1 Axes>"
      ]
     },
     "metadata": {},
     "output_type": "display_data"
    }
   ],
   "source": [
    "plot_biopsy_per_race(train_df, \"Training Data: biopsy_id Count per Race\")\n",
    "plot_biopsy_per_race(valid_df, \"Validation Data: biopsy_id Count per Race\")\n",
    "plot_biopsy_per_race(test_df, \"Test Data: biopsy_id Count per Race\")"
   ]
  },
  {
   "cell_type": "code",
   "execution_count": 6,
   "id": "7bb4eac7-5a5a-4c73-9086-967ebecadd13",
   "metadata": {
    "tags": []
   },
   "outputs": [],
   "source": [
    "def plot_biopsy_per_stage(df, title):\n",
    "    \"\"\"\n",
    "    Plots the count of biopsy_id per stage.\n",
    "    \n",
    "    Parameters:\n",
    "        df (pd.DataFrame): The dataframe to plot.\n",
    "        title (str): Title for the plot.\n",
    "    \"\"\"\n",
    "    counts = df.drop_duplicates(subset=[\"biopsy_id\", \"stage\"]).groupby(\"stage\")[\"biopsy_id\"].count().reset_index()\n",
    "    \n",
    "    plt.figure(figsize=(10, 6))\n",
    "    sns.barplot(x=\"stage\", y=\"biopsy_id\", data=counts, palette=\"viridis\")\n",
    "    plt.xlabel(\"Stage\")\n",
    "    plt.ylabel(\"Number of biopsy_id\")\n",
    "    plt.title(title)\n",
    "    plt.xticks(rotation=45)\n",
    "    plt.tight_layout()\n",
    "    plt.show()"
   ]
  },
  {
   "cell_type": "code",
   "execution_count": 7,
   "id": "5f1b1739-ce48-41fe-820f-1050726bb079",
   "metadata": {
    "tags": []
   },
   "outputs": [
    {
     "data": {
      "image/png": "[encoded data removed]",
      "text/plain": [
       "<Figure size 1000x600 with 1 Axes>"
      ]
     },
     "metadata": {},
     "output_type": "display_data"
    },
    {
     "data": {
      "image/png": "[encoded data removed]",
      "text/plain": [
       "<Figure size 1000x600 with 1 Axes>"
      ]
     },
     "metadata": {},
     "output_type": "display_data"
    },
    {
     "data": {
      "image/png": "[encoded data removed]",
      "text/plain": [
       "<Figure size 1000x600 with 1 Axes>"
      ]
     },
     "metadata": {},
     "output_type": "display_data"
    }
   ],
   "source": [
    "plot_biopsy_per_stage(train_df, 'Training Data: biopsy_id Count per Stage')\n",
    "plot_biopsy_per_stage(valid_df, 'Validation Data: biopsy_id Count per Stage')\n",
    "plot_biopsy_per_stage(test_df, 'Test Data: biopsy_id Count per Stage')"
   ]
  },
  {
   "cell_type": "code",
   "execution_count": 8,
   "id": "cae03e93-c861-4eec-838c-b9a9730d7c37",
   "metadata": {
    "tags": []
   },
   "outputs": [],
   "source": [
    "import os\n",
    "import shutil\n",
    "import pandas as pd\n",
    "\n",
    "def copy_images_to_structure(df, source_folder, target_folder):\n",
    "    \"\"\"\n",
    "    Copies images from the source folder to a new folder structure suitable for Image Folder.\n",
    "    \n",
    "    Parameters:\n",
    "        df (pd.DataFrame): DataFrame containing 'slide_id' and 'stage' columns.\n",
    "        source_folder (str): Path to the folder containing original images.\n",
    "        target_folder (str): Path to the target folder to store new folder structure.\n",
    "    \"\"\"\n",
    "    if not os.path.exists(target_folder):\n",
    "        os.makedirs(target_folder)\n",
    "    \n",
    "    for index, row in df.iterrows():\n",
    "        file_name = row[\"slide_id\"] + \".png\"\n",
    "        class_label = str(row[\"stage\"])\n",
    "        \n",
    "        new_path = os.path.join(target_folder, class_label)\n",
    "        if not os.path.exists(new_path):\n",
    "            os.makedirs(new_path)\n",
    "        \n",
    "        shutil.copy(os.path.join(source_folder, file_name), os.path.join(new_path, file_name))\n",
    "    "
   ]
  },
  {
   "cell_type": "code",
   "execution_count": 9,
   "id": "db777025-ca72-4a62-9f98-fcf60a4dddf1",
   "metadata": {
    "tags": []
   },
   "outputs": [],
   "source": [
    "source_folder = \"/home/ngsci/datasets/brca-psj-path/contest-phase-2/png-downsampled-train\"\n",
    "target_folder_train = \"/home/ngsci/project/Armin/metadata2/train\" \n",
    "target_folder_valid = \"/home/ngsci/project/Armin/metadata2/valid\"\n",
    "target_folder_test = \"/home/ngsci/project/Armin/metadata2/test\"\n",
    "copy_images_to_structure(train_df, source_folder, target_folder_train)\n",
    "copy_images_to_structure(valid_df, source_folder, target_folder_valid)\n",
    "copy_images_to_structure(test_df, source_folder, target_folder_test)"
   ]
  }
 ],
 "metadata": {
  "kernelspec": {
   "display_name": "Python 3 (ipykernel)",
   "language": "python",
   "name": "python3"
  },
  "language_info": {
   "codemirror_mode": {
    "name": "ipython",
    "version": 3
   },
   "file_extension": ".py",
   "mimetype": "text/x-python",
   "name": "python",
   "nbconvert_exporter": "python",
   "pygments_lexer": "ipython3",
   "version": "3.10.9"
  }
 },
 "nbformat": 4,
 "nbformat_minor": 5
}
